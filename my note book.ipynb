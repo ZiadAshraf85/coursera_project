{
 "cells": [
  {
   "cell_type": "markdown",
   "id": "43b42dec",
   "metadata": {},
   "source": [
    "# title"
   ]
  },
  {
   "cell_type": "code",
   "execution_count": null,
   "id": "d1a6ebd4",
   "metadata": {},
   "outputs": [],
   "source": []
  },
  {
   "cell_type": "markdown",
   "id": "c82c5864",
   "metadata": {},
   "source": [
    "# introduction"
   ]
  },
  {
   "cell_type": "code",
   "execution_count": null,
   "id": "1bbef711",
   "metadata": {},
   "outputs": [],
   "source": []
  },
  {
   "cell_type": "markdown",
   "id": "2079448a",
   "metadata": {},
   "source": [
    "# list data science languages"
   ]
  },
  {
   "cell_type": "code",
   "execution_count": null,
   "id": "f9de07ac",
   "metadata": {},
   "outputs": [],
   "source": []
  },
  {
   "cell_type": "markdown",
   "id": "17d672b8",
   "metadata": {},
   "source": [
    "# list data science libraries"
   ]
  },
  {
   "cell_type": "code",
   "execution_count": null,
   "id": "11382993",
   "metadata": {},
   "outputs": [],
   "source": []
  },
  {
   "cell_type": "markdown",
   "id": "0398e5a1",
   "metadata": {},
   "source": [
    "# table of Data Science tools"
   ]
  },
  {
   "cell_type": "code",
   "execution_count": null,
   "id": "f163cef1",
   "metadata": {},
   "outputs": [],
   "source": []
  },
  {
   "cell_type": "markdown",
   "id": "b88b26b0",
   "metadata": {},
   "source": [
    "# introducing arithmetic expression examples"
   ]
  },
  {
   "cell_type": "code",
   "execution_count": null,
   "id": "29157240",
   "metadata": {},
   "outputs": [],
   "source": []
  },
  {
   "cell_type": "code",
   "execution_count": 1,
   "id": "639601ac",
   "metadata": {},
   "outputs": [
    {
     "name": "stdout",
     "output_type": "stream",
     "text": [
      "6\n"
     ]
    }
   ],
   "source": [
    "# multiply and add numbers \n",
    "a=3\n",
    "b=2\n",
    "z=a*b\n",
    "print(z)"
   ]
  },
  {
   "cell_type": "code",
   "execution_count": 3,
   "id": "b95996b8",
   "metadata": {},
   "outputs": [
    {
     "name": "stdout",
     "output_type": "stream",
     "text": [
      "2.5\n"
     ]
    }
   ],
   "source": [
    "# convert minute to hours \n",
    "minutes = 150\n",
    "hours = minutes / 60\n",
    "print(hours)"
   ]
  },
  {
   "cell_type": "markdown",
   "id": "24f13279",
   "metadata": {},
   "source": [
    "# list Objectives"
   ]
  },
  {
   "cell_type": "code",
   "execution_count": null,
   "id": "9f5c59f1",
   "metadata": {},
   "outputs": [],
   "source": []
  },
  {
   "cell_type": "markdown",
   "id": "df25cd31",
   "metadata": {},
   "source": [
    "# indicate the Author’s name"
   ]
  },
  {
   "cell_type": "code",
   "execution_count": null,
   "id": "f70a506b",
   "metadata": {},
   "outputs": [],
   "source": []
  }
 ],
 "metadata": {
  "kernelspec": {
   "display_name": "Python 3 (ipykernel)",
   "language": "python",
   "name": "python3"
  },
  "language_info": {
   "codemirror_mode": {
    "name": "ipython",
    "version": 3
   },
   "file_extension": ".py",
   "mimetype": "text/x-python",
   "name": "python",
   "nbconvert_exporter": "python",
   "pygments_lexer": "ipython3",
   "version": "3.9.13"
  }
 },
 "nbformat": 4,
 "nbformat_minor": 5
}
