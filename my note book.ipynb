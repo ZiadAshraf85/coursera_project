{
 "cells": [
  {
   "cell_type": "markdown",
   "id": "43b42dec",
   "metadata": {},
   "source": [
    "# Data Science Tools and Arithmetic Expressions\n"
   ]
  },
  {
   "cell_type": "markdown",
   "id": "6b97cff2",
   "metadata": {},
   "source": [
    "# Introduction\n",
    "## In this notebook, we'll explore some of the popular languages, libraries, and tools used in Data Science. We'll also look at some examples of arithmetic expressions commonly used in programming.\n"
   ]
  },
  {
   "cell_type": "markdown",
   "id": "40fc8002",
   "metadata": {},
   "source": [
    "# Data Science Languages\n",
    "\n",
    "## Python\n",
    "## R\n",
    "## SQL\n",
    "## Julia\n",
    "## MATLAB"
   ]
  },
  {
   "cell_type": "markdown",
   "id": "2079448a",
   "metadata": {},
   "source": [
    "#  Exercise 5 - Data Science Libraries\n",
    "\n",
    "## NumPy\n",
    "## Pandas\n",
    "## Matplotlib\n",
    "## Seaborn\n",
    "## Scikit-learn\n",
    "## TensorFlow\n",
    "## Keras"
   ]
  },
  {
   "cell_type": "markdown",
   "id": "3194e487",
   "metadata": {},
   "source": [
    "# Data Science Tools Table\n",
    "| Category          | Tools                                          |\n",
    "|-------------------|------------------------------------------------|\n",
    "| Data Collection   | Web Scraping, APIs                             |\n",
    "| Data Cleaning     | Pandas, OpenRefine                             |\n",
    "| Data Analysis     | SQL, Pandas, Spark                             |\n",
    "| Data Visualization| Matplotlib, Seaborn, Plotly                    |\n",
    "| Machine Learning  | Scikit-learn, TensorFlow, Keras                |\n",
    "| Deep Learning     | TensorFlow, PyTorch, Keras                     |\n",
    "| Big Data          | Hadoop, Spark, Hive                            |\n",
    "| Cloud Computing   | AWS, GCP, Azure                                |\n",
    "| Collaboration     | GitHub, Jupyter Notebook, Colab                |"
   ]
  },
  {
   "cell_type": "markdown",
   "id": "17d672b8",
   "metadata": {},
   "source": [
    "# Arithmetic Expressions\n",
    "## Arithmetic expressions are mathematical operations performed on one or more values. Some examples include addition, subtraction, multiplication, and division."
   ]
  },
  {
   "cell_type": "markdown",
   "id": "fc7aa5e2",
   "metadata": {},
   "source": [
    "# Examples"
   ]
  },
  {
   "cell_type": "code",
   "execution_count": 2,
   "id": "b71ef362",
   "metadata": {},
   "outputs": [
    {
     "name": "stdout",
     "output_type": "stream",
     "text": [
      "52\n"
     ]
    }
   ],
   "source": [
    "x = 5\n",
    "y = 10\n",
    "result = x * y + 2\n",
    "print(result)"
   ]
  },
  {
   "cell_type": "markdown",
   "id": "0398e5a1",
   "metadata": {},
   "source": [
    "# Converting Minutes to Hours"
   ]
  },
  {
   "cell_type": "code",
   "execution_count": 3,
   "id": "f163cef1",
   "metadata": {},
   "outputs": [
    {
     "name": "stdout",
     "output_type": "stream",
     "text": [
      "2.0\n"
     ]
    }
   ],
   "source": [
    "minutes = 120\n",
    "hours = minutes / 60\n",
    "print(hours)"
   ]
  },
  {
   "cell_type": "markdown",
   "id": "b88b26b0",
   "metadata": {},
   "source": [
    "# Objectives\n",
    "## By the end of this notebook, you should be able to:\n",
    "\n",
    "## Understand the popular languages, libraries, and tools used in Data Science\n",
    "## Perform basic arithmetic operations in programming"
   ]
  },
  {
   "cell_type": "markdown",
   "id": "c24efa4c",
   "metadata": {},
   "source": [
    "# Author\n",
    "## This notebook was created by [ziad ashraf]."
   ]
  }
 ],
 "metadata": {
  "kernelspec": {
   "display_name": "Python 3 (ipykernel)",
   "language": "python",
   "name": "python3"
  },
  "language_info": {
   "codemirror_mode": {
    "name": "ipython",
    "version": 3
   },
   "file_extension": ".py",
   "mimetype": "text/x-python",
   "name": "python",
   "nbconvert_exporter": "python",
   "pygments_lexer": "ipython3",
   "version": "3.9.13"
  }
 },
 "nbformat": 4,
 "nbformat_minor": 5
}
